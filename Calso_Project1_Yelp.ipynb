{
 "cells": [
  {
   "cell_type": "code",
   "execution_count": 1,
   "metadata": {},
   "outputs": [],
   "source": [
    "#import dependencies\n",
    "%matplotlib inline\n",
    "import matplotlib.pyplot as plt\n",
    "import pandas as pd\n",
    "import numpy as np\n",
    "import os\n",
    "import scipy\n",
    "import scipy.stats as stats\n",
    "import seaborn as sns\n",
    "from sklearn.feature_extraction.text import TfidfVectorizer\n",
    "from nltk.stem.snowball import SnowballStemmer\n",
    "from nltk.tokenize import RegexpTokenizer\n",
    "from nltk.tokenize import word_tokenize\n",
    "from sklearn.cluster import KMeans"
   ]
  },
  {
   "cell_type": "code",
   "execution_count": 2,
   "metadata": {},
   "outputs": [],
   "source": [
    "#upload data\n",
    "business_data = pd.read_csv(\"Resources/yelp_business.csv\")\n",
    "business_hours_data = pd.read_csv(\"Resources/yelp_business_hours.csv\")\n",
    "check_in_data = pd.read_csv(\"Resources/yelp_checkin.csv\")\n",
    "review_data  = pd.read_csv(\"Resources/yelp_review.csv\")\n",
    "business_attributes_data = pd.read_csv(\"Resources/yelp_business_attributes.csv\")\n",
    "tip_data = pd.read_csv(\"Resources/yelp_tip.csv\")\n",
    "user_data = pd.read_csv(\"Resources/yelp_user.csv\")"
   ]
  },
  {
   "cell_type": "code",
   "execution_count": 3,
   "metadata": {},
   "outputs": [],
   "source": [
    "name_df = business_data[['business_id', 'name']]"
   ]
  },
  {
   "cell_type": "code",
   "execution_count": 4,
   "metadata": {},
   "outputs": [
    {
     "data": {
      "text/html": [
       "<div>\n",
       "<style scoped>\n",
       "    .dataframe tbody tr th:only-of-type {\n",
       "        vertical-align: middle;\n",
       "    }\n",
       "\n",
       "    .dataframe tbody tr th {\n",
       "        vertical-align: top;\n",
       "    }\n",
       "\n",
       "    .dataframe thead th {\n",
       "        text-align: right;\n",
       "    }\n",
       "</style>\n",
       "<table border=\"1\" class=\"dataframe\">\n",
       "  <thead>\n",
       "    <tr style=\"text-align: right;\">\n",
       "      <th></th>\n",
       "      <th>review_id</th>\n",
       "      <th>user_id</th>\n",
       "      <th>business_id</th>\n",
       "      <th>stars</th>\n",
       "      <th>date</th>\n",
       "      <th>text</th>\n",
       "      <th>useful</th>\n",
       "      <th>funny</th>\n",
       "      <th>cool</th>\n",
       "      <th>name</th>\n",
       "    </tr>\n",
       "  </thead>\n",
       "  <tbody>\n",
       "    <tr>\n",
       "      <th>0</th>\n",
       "      <td>vkVSCC7xljjrAI4UGfnKEQ</td>\n",
       "      <td>bv2nCi5Qv5vroFiqKGopiw</td>\n",
       "      <td>AEx2SYEUJmTxVVB18LlCwA</td>\n",
       "      <td>5</td>\n",
       "      <td>2016-05-28</td>\n",
       "      <td>Super simple place but amazing nonetheless. It...</td>\n",
       "      <td>0</td>\n",
       "      <td>0</td>\n",
       "      <td>0</td>\n",
       "      <td>\"Wilensky's\"</td>\n",
       "    </tr>\n",
       "    <tr>\n",
       "      <th>1</th>\n",
       "      <td>n6QzIUObkYshz4dz2QRJTw</td>\n",
       "      <td>bv2nCi5Qv5vroFiqKGopiw</td>\n",
       "      <td>VR6GpWIda3SfvPC-lg9H3w</td>\n",
       "      <td>5</td>\n",
       "      <td>2016-05-28</td>\n",
       "      <td>Small unassuming place that changes their menu...</td>\n",
       "      <td>0</td>\n",
       "      <td>0</td>\n",
       "      <td>0</td>\n",
       "      <td>\"Tuck Shop\"</td>\n",
       "    </tr>\n",
       "    <tr>\n",
       "      <th>2</th>\n",
       "      <td>MV3CcKScW05u5LVfF6ok0g</td>\n",
       "      <td>bv2nCi5Qv5vroFiqKGopiw</td>\n",
       "      <td>CKC0-MOWMqoeWf6s-szl8g</td>\n",
       "      <td>5</td>\n",
       "      <td>2016-05-28</td>\n",
       "      <td>Lester's is located in a beautiful neighborhoo...</td>\n",
       "      <td>0</td>\n",
       "      <td>0</td>\n",
       "      <td>0</td>\n",
       "      <td>\"Lester's Deli\"</td>\n",
       "    </tr>\n",
       "    <tr>\n",
       "      <th>3</th>\n",
       "      <td>IXvOzsEMYtiJI0CARmj77Q</td>\n",
       "      <td>bv2nCi5Qv5vroFiqKGopiw</td>\n",
       "      <td>ACFtxLv8pGrrxMm6EgjreA</td>\n",
       "      <td>4</td>\n",
       "      <td>2016-05-28</td>\n",
       "      <td>Love coming here. Yes the place always needs t...</td>\n",
       "      <td>0</td>\n",
       "      <td>0</td>\n",
       "      <td>0</td>\n",
       "      <td>\"Five Guys\"</td>\n",
       "    </tr>\n",
       "    <tr>\n",
       "      <th>4</th>\n",
       "      <td>L_9BTb55X0GDtThi6GlZ6w</td>\n",
       "      <td>bv2nCi5Qv5vroFiqKGopiw</td>\n",
       "      <td>s2I_Ni76bjJNK9yG60iD-Q</td>\n",
       "      <td>4</td>\n",
       "      <td>2016-05-28</td>\n",
       "      <td>Had their chocolate almond croissant and it wa...</td>\n",
       "      <td>0</td>\n",
       "      <td>0</td>\n",
       "      <td>0</td>\n",
       "      <td>\"Maison Christian Faure\"</td>\n",
       "    </tr>\n",
       "  </tbody>\n",
       "</table>\n",
       "</div>"
      ],
      "text/plain": [
       "                review_id                 user_id             business_id  \\\n",
       "0  vkVSCC7xljjrAI4UGfnKEQ  bv2nCi5Qv5vroFiqKGopiw  AEx2SYEUJmTxVVB18LlCwA   \n",
       "1  n6QzIUObkYshz4dz2QRJTw  bv2nCi5Qv5vroFiqKGopiw  VR6GpWIda3SfvPC-lg9H3w   \n",
       "2  MV3CcKScW05u5LVfF6ok0g  bv2nCi5Qv5vroFiqKGopiw  CKC0-MOWMqoeWf6s-szl8g   \n",
       "3  IXvOzsEMYtiJI0CARmj77Q  bv2nCi5Qv5vroFiqKGopiw  ACFtxLv8pGrrxMm6EgjreA   \n",
       "4  L_9BTb55X0GDtThi6GlZ6w  bv2nCi5Qv5vroFiqKGopiw  s2I_Ni76bjJNK9yG60iD-Q   \n",
       "\n",
       "   stars        date                                               text  \\\n",
       "0      5  2016-05-28  Super simple place but amazing nonetheless. It...   \n",
       "1      5  2016-05-28  Small unassuming place that changes their menu...   \n",
       "2      5  2016-05-28  Lester's is located in a beautiful neighborhoo...   \n",
       "3      4  2016-05-28  Love coming here. Yes the place always needs t...   \n",
       "4      4  2016-05-28  Had their chocolate almond croissant and it wa...   \n",
       "\n",
       "   useful  funny  cool                      name  \n",
       "0       0      0     0              \"Wilensky's\"  \n",
       "1       0      0     0               \"Tuck Shop\"  \n",
       "2       0      0     0           \"Lester's Deli\"  \n",
       "3       0      0     0               \"Five Guys\"  \n",
       "4       0      0     0  \"Maison Christian Faure\"  "
      ]
     },
     "execution_count": 4,
     "metadata": {},
     "output_type": "execute_result"
    }
   ],
   "source": [
    "#dataframe of 5 businesses \n",
    "review_df = pd.merge(review_data, name_df, how = 'left', left_on = 'business_id', right_on = 'business_id')\n",
    "review_df.head()"
   ]
  },
  {
   "cell_type": "code",
   "execution_count": 5,
   "metadata": {},
   "outputs": [
    {
     "data": {
      "text/plain": [
       "neighborhood    106552\n",
       "postal_code        623\n",
       "longitude            1\n",
       "latitude             1\n",
       "state                1\n",
       "city                 1\n",
       "categories           0\n",
       "is_open              0\n",
       "review_count         0\n",
       "stars                0\n",
       "address              0\n",
       "name                 0\n",
       "business_id          0\n",
       "dtype: int64"
      ]
     },
     "execution_count": 5,
     "metadata": {},
     "output_type": "execute_result"
    }
   ],
   "source": [
    "#null values\n",
    "business_data.isnull().sum().sort_values(ascending = False)"
   ]
  },
  {
   "cell_type": "code",
   "execution_count": 6,
   "metadata": {},
   "outputs": [
    {
     "data": {
      "text/plain": [
       "Las Vegas                  26775\n",
       "Phoenix                    17213\n",
       "Toronto                    17206\n",
       "Charlotte                   8553\n",
       "Scottsdale                  8228\n",
       "Pittsburgh                  6355\n",
       "Mesa                        5760\n",
       "Montréal                    5709\n",
       "Henderson                   4465\n",
       "Tempe                       4263\n",
       "Chandler                    3994\n",
       "Edinburgh                   3868\n",
       "Cleveland                   3322\n",
       "Madison                     3213\n",
       "Glendale                    3206\n",
       "Gilbert                     3128\n",
       "Mississauga                 2726\n",
       "Stuttgart                   2000\n",
       "Peoria                      1706\n",
       "Markham                     1564\n",
       "North Las Vegas             1393\n",
       "Champaign                   1195\n",
       "Scarborough                 1095\n",
       "North York                  1092\n",
       "Surprise                    1018\n",
       "Richmond Hill                888\n",
       "Concord                      864\n",
       "Brampton                     839\n",
       "Goodyear                     772\n",
       "Vaughan                      768\n",
       "                           ...  \n",
       "Lavaltrie                      1\n",
       "Phoeniix                       1\n",
       "Inglewood                      1\n",
       "M7                             1\n",
       "East Credit                    1\n",
       "Chagrin Highlands              1\n",
       "Saint-Roch-De-L'achigan        1\n",
       "Brooklyn Hts.                  1\n",
       "Russell                        1\n",
       "Township of Concord            1\n",
       "Palgrave                       1\n",
       "Pheonix AZ                     1\n",
       "NorthYork                      1\n",
       "Pgh Int Arprt                  1\n",
       "Old Scottsdale                 1\n",
       "Mccandless Township            1\n",
       "Mt Albert                      1\n",
       "C Las Vegas                    1\n",
       "Oak Ridges                     1\n",
       "Southside Flats                1\n",
       "Lake Park                      1\n",
       "Water of Leith                 1\n",
       "Laval, Pont Viau               1\n",
       "Pincourt                       1\n",
       "Indian land                    1\n",
       "West Lothian                   1\n",
       "Montrose                       1\n",
       "Streetsbor                     1\n",
       "Mt. Oliver Boro                1\n",
       "Strip District                 1\n",
       "Name: city, Length: 1093, dtype: int64"
      ]
     },
     "execution_count": 6,
     "metadata": {},
     "output_type": "execute_result"
    }
   ],
   "source": [
    "#number of restaurants in each city from business_data\n",
    "business_data.city.value_counts()"
   ]
  },
  {
   "cell_type": "code",
   "execution_count": 7,
   "metadata": {},
   "outputs": [
    {
     "data": {
      "text/plain": [
       "Text(0.5,1,'Top 20 Cities by Businesses Listed')"
      ]
     },
     "execution_count": 7,
     "metadata": {},
     "output_type": "execute_result"
    },
    {
     "data": {
      "image/png": "[encoded data removed]",
      "text/plain": [
       "<Figure size 864x432 with 1 Axes>"
      ]
     },
     "metadata": {},
     "output_type": "display_data"
    }
   ],
   "source": [
    "#bar graph for number of businesses in different cities \n",
    "city_business_counts = business_data[['city', 'business_id']].groupby(['city'])\\\n",
    "['business_id'].agg('count').sort_values(ascending=False)\n",
    "city_business_counts = pd.DataFrame(data = city_business_counts)\n",
    "city_business_counts.rename(columns={'business_id' : 'Number of businesses'}, inplace=True)\n",
    "\n",
    "city_business_counts[0:20].sort_values(ascending=False, by=\"Number of businesses\")\\\n",
    ".plot(kind='barh', stacked=False, figsize=[12,6])\n",
    "plt.title('Top 20 Cities by Businesses Listed')"
   ]
  },
  {
   "cell_type": "code",
   "execution_count": 16,
   "metadata": {},
   "outputs": [
    {
     "data": {
      "text/html": [
       "<div>\n",
       "<style scoped>\n",
       "    .dataframe tbody tr th:only-of-type {\n",
       "        vertical-align: middle;\n",
       "    }\n",
       "\n",
       "    .dataframe tbody tr th {\n",
       "        vertical-align: top;\n",
       "    }\n",
       "\n",
       "    .dataframe thead th {\n",
       "        text-align: right;\n",
       "    }\n",
       "</style>\n",
       "<table border=\"1\" class=\"dataframe\">\n",
       "  <thead>\n",
       "    <tr style=\"text-align: right;\">\n",
       "      <th></th>\n",
       "      <th>review_count</th>\n",
       "      <th>stars</th>\n",
       "    </tr>\n",
       "    <tr>\n",
       "      <th>city</th>\n",
       "      <th></th>\n",
       "      <th></th>\n",
       "    </tr>\n",
       "  </thead>\n",
       "  <tbody>\n",
       "    <tr>\n",
       "      <th>Las Vegas</th>\n",
       "      <td>1604173</td>\n",
       "      <td>3.709916</td>\n",
       "    </tr>\n",
       "    <tr>\n",
       "      <th>Phoenix</th>\n",
       "      <td>576709</td>\n",
       "      <td>3.673793</td>\n",
       "    </tr>\n",
       "    <tr>\n",
       "      <th>Toronto</th>\n",
       "      <td>430923</td>\n",
       "      <td>3.487272</td>\n",
       "    </tr>\n",
       "    <tr>\n",
       "      <th>Scottsdale</th>\n",
       "      <td>308529</td>\n",
       "      <td>3.948529</td>\n",
       "    </tr>\n",
       "    <tr>\n",
       "      <th>Charlotte</th>\n",
       "      <td>237115</td>\n",
       "      <td>3.571554</td>\n",
       "    </tr>\n",
       "    <tr>\n",
       "      <th>Pittsburgh</th>\n",
       "      <td>179471</td>\n",
       "      <td>3.629819</td>\n",
       "    </tr>\n",
       "    <tr>\n",
       "      <th>Henderson</th>\n",
       "      <td>166884</td>\n",
       "      <td>3.789362</td>\n",
       "    </tr>\n",
       "    <tr>\n",
       "      <th>Tempe</th>\n",
       "      <td>162772</td>\n",
       "      <td>3.729885</td>\n",
       "    </tr>\n",
       "    <tr>\n",
       "      <th>Mesa</th>\n",
       "      <td>130883</td>\n",
       "      <td>3.636024</td>\n",
       "    </tr>\n",
       "    <tr>\n",
       "      <th>Montréal</th>\n",
       "      <td>122620</td>\n",
       "      <td>3.706604</td>\n",
       "    </tr>\n",
       "  </tbody>\n",
       "</table>\n",
       "</div>"
      ],
      "text/plain": [
       "            review_count     stars\n",
       "city                              \n",
       "Las Vegas        1604173  3.709916\n",
       "Phoenix           576709  3.673793\n",
       "Toronto           430923  3.487272\n",
       "Scottsdale        308529  3.948529\n",
       "Charlotte         237115  3.571554\n",
       "Pittsburgh        179471  3.629819\n",
       "Henderson         166884  3.789362\n",
       "Tempe             162772  3.729885\n",
       "Mesa              130883  3.636024\n",
       "Montréal          122620  3.706604"
      ]
     },
     "execution_count": 16,
     "metadata": {},
     "output_type": "execute_result"
    }
   ],
   "source": [
    "#table of cities with most reviews and average ratings\n",
    "city_business_reviews = business_data[['city', 'review_count', 'stars']].groupby(['city']).\\\n",
    "agg({'review_count': 'sum', 'stars': 'mean'}).sort_values(by='review_count', ascending=False)\n",
    "city_business_reviews.head(10)"
   ]
  },
  {
   "cell_type": "code",
   "execution_count": 18,
   "metadata": {},
   "outputs": [
    {
     "data": {
      "text/plain": [
       "Ttest_indResult(statistic=2.834935927335637, pvalue=0.004668011142103003)"
      ]
     },
     "execution_count": 18,
     "metadata": {},
     "output_type": "execute_result"
    }
   ],
   "source": [
    "stats.ttest_ind(city_business_reviews['review_count'], business_data['review_count'], equal_var = False)"
   ]
  },
  {
   "cell_type": "code",
   "execution_count": 19,
   "metadata": {},
   "outputs": [
    {
     "data": {
      "text/plain": [
       "Ttest_indResult(statistic=2.09312158301718, pvalue=0.0365626592797987)"
      ]
     },
     "execution_count": 19,
     "metadata": {},
     "output_type": "execute_result"
    }
   ],
   "source": [
    "stats.ttest_ind(city_business_reviews['stars'], business_data['stars'], equal_var = False)"
   ]
  },
  {
   "cell_type": "code",
   "execution_count": 20,
   "metadata": {},
   "outputs": [
    {
     "data": {
      "text/plain": [
       "Text(0.5,1,'Cities with greater than 100k reviews ranked by stars')"
      ]
     },
     "execution_count": 20,
     "metadata": {},
     "output_type": "execute_result"
    },
    {
     "data": {
      "image/png": "[encoded data removed]",
      "text/plain": [
       "<Figure size 864x432 with 1 Axes>"
      ]
     },
     "metadata": {},
     "output_type": "display_data"
    }
   ],
   "source": [
    "#bar graph of numbers of reviews for each city ranked by stars\n",
    "city_business_reviews[city_business_reviews.review_count > 100000]['stars'].sort_values(ascending =False)\\\n",
    ".plot(kind='bar', stacked=False, figsize=[12,6])\n",
    "plt.title('Cities with greater than 100k reviews ranked by stars')"
   ]
  },
  {
   "cell_type": "code",
   "execution_count": 21,
   "metadata": {},
   "outputs": [
    {
     "name": "stdout",
     "output_type": "stream",
     "text": [
      "There are  59106  different types/categories of Businesses in Yelp!\n"
     ]
    },
    {
     "data": {
      "text/plain": [
       "Text(0.5,0,'Category')"
      ]
     },
     "execution_count": 21,
     "metadata": {},
     "output_type": "execute_result"
    },
    {
     "data": {
      "image/png": "[encoded data removed]",
      "text/plain": [
       "<Figure size 864x576 with 1 Axes>"
      ]
     },
     "metadata": {},
     "output_type": "display_data"
    }
   ],
   "source": [
    "# bar graph of popular business categories\n",
    "business_cats=' '.join(business_data['categories'])\n",
    "\n",
    "cats=pd.DataFrame(business_cats.split(';'),columns=['category'])\n",
    "x=cats.category.value_counts()\n",
    "print(\"There are \",len(x),\" different types/categories of Businesses in Yelp!\")\n",
    "#prep for chart\n",
    "x=x.sort_values(ascending=False)\n",
    "x=x.iloc[0:10]\n",
    "\n",
    "plt.figure(figsize=(12,8))\n",
    "ax = sns.barplot(x.index, x.values, alpha=0.8)\n",
    "plt.title(\"top10 categories\",fontsize=25)\n",
    "locs, labels = plt.xticks()\n",
    "plt.setp(labels, rotation=75)\n",
    "plt.ylabel('# businesses', fontsize=12)\n",
    "plt.xlabel('Category', fontsize=12)"
   ]
  },
  {
   "cell_type": "code",
   "execution_count": 22,
   "metadata": {},
   "outputs": [
    {
     "data": {
      "text/html": [
       "<div>\n",
       "<style scoped>\n",
       "    .dataframe tbody tr th:only-of-type {\n",
       "        vertical-align: middle;\n",
       "    }\n",
       "\n",
       "    .dataframe tbody tr th {\n",
       "        vertical-align: top;\n",
       "    }\n",
       "\n",
       "    .dataframe thead th {\n",
       "        text-align: right;\n",
       "    }\n",
       "</style>\n",
       "<table border=\"1\" class=\"dataframe\">\n",
       "  <thead>\n",
       "    <tr style=\"text-align: right;\">\n",
       "      <th></th>\n",
       "      <th>name</th>\n",
       "      <th>business_id</th>\n",
       "      <th>review_count</th>\n",
       "      <th>city</th>\n",
       "      <th>stars</th>\n",
       "    </tr>\n",
       "  </thead>\n",
       "  <tbody>\n",
       "    <tr>\n",
       "      <th>97944</th>\n",
       "      <td>\"Mon Ami Gabi\"</td>\n",
       "      <td>4JNXUYY8wbaaDmk3BPzlWw</td>\n",
       "      <td>7361</td>\n",
       "      <td>Las Vegas</td>\n",
       "      <td>4.0</td>\n",
       "    </tr>\n",
       "    <tr>\n",
       "      <th>119907</th>\n",
       "      <td>\"Bacchanal Buffet\"</td>\n",
       "      <td>RESDUcs7fIiihp38-d6_6g</td>\n",
       "      <td>7009</td>\n",
       "      <td>Las Vegas</td>\n",
       "      <td>4.0</td>\n",
       "    </tr>\n",
       "    <tr>\n",
       "      <th>69993</th>\n",
       "      <td>\"Wicked Spoon\"</td>\n",
       "      <td>K7lWdNUhCbcnEvI0NhGewg</td>\n",
       "      <td>5950</td>\n",
       "      <td>Las Vegas</td>\n",
       "      <td>3.5</td>\n",
       "    </tr>\n",
       "    <tr>\n",
       "      <th>81212</th>\n",
       "      <td>\"Gordon Ramsay BurGR\"</td>\n",
       "      <td>cYwJA2A6I12KNkm2rtXd5g</td>\n",
       "      <td>5447</td>\n",
       "      <td>Las Vegas</td>\n",
       "      <td>4.0</td>\n",
       "    </tr>\n",
       "    <tr>\n",
       "      <th>139699</th>\n",
       "      <td>\"Earl of Sandwich\"</td>\n",
       "      <td>DkYS3arLOhA8si5uUEmHOw</td>\n",
       "      <td>4869</td>\n",
       "      <td>Las Vegas</td>\n",
       "      <td>4.5</td>\n",
       "    </tr>\n",
       "    <tr>\n",
       "      <th>19191</th>\n",
       "      <td>\"Hash House A Go Go\"</td>\n",
       "      <td>f4x1YBxkLrZg652xt2KR5g</td>\n",
       "      <td>4774</td>\n",
       "      <td>Las Vegas</td>\n",
       "      <td>4.0</td>\n",
       "    </tr>\n",
       "    <tr>\n",
       "      <th>80590</th>\n",
       "      <td>\"The Buffet\"</td>\n",
       "      <td>2weQS-RnoOBhb1KsHKyoSQ</td>\n",
       "      <td>4018</td>\n",
       "      <td>Las Vegas</td>\n",
       "      <td>3.5</td>\n",
       "    </tr>\n",
       "    <tr>\n",
       "      <th>124412</th>\n",
       "      <td>\"Lotus of Siam\"</td>\n",
       "      <td>KskYqH1Bi7Z_61pH6Om8pg</td>\n",
       "      <td>3964</td>\n",
       "      <td>Las Vegas</td>\n",
       "      <td>4.0</td>\n",
       "    </tr>\n",
       "    <tr>\n",
       "      <th>21006</th>\n",
       "      <td>\"Serendipity 3\"</td>\n",
       "      <td>eoHdUeQDNgQ6WYEnP2aiRw</td>\n",
       "      <td>3910</td>\n",
       "      <td>Las Vegas</td>\n",
       "      <td>3.0</td>\n",
       "    </tr>\n",
       "    <tr>\n",
       "      <th>93038</th>\n",
       "      <td>\"The Buffet at Bellagio\"</td>\n",
       "      <td>ujHiaprwCQ5ewziu0Vi9rw</td>\n",
       "      <td>3838</td>\n",
       "      <td>Las Vegas</td>\n",
       "      <td>3.5</td>\n",
       "    </tr>\n",
       "  </tbody>\n",
       "</table>\n",
       "</div>"
      ],
      "text/plain": [
       "                            name             business_id  review_count  \\\n",
       "97944             \"Mon Ami Gabi\"  4JNXUYY8wbaaDmk3BPzlWw          7361   \n",
       "119907        \"Bacchanal Buffet\"  RESDUcs7fIiihp38-d6_6g          7009   \n",
       "69993             \"Wicked Spoon\"  K7lWdNUhCbcnEvI0NhGewg          5950   \n",
       "81212      \"Gordon Ramsay BurGR\"  cYwJA2A6I12KNkm2rtXd5g          5447   \n",
       "139699        \"Earl of Sandwich\"  DkYS3arLOhA8si5uUEmHOw          4869   \n",
       "19191       \"Hash House A Go Go\"  f4x1YBxkLrZg652xt2KR5g          4774   \n",
       "80590               \"The Buffet\"  2weQS-RnoOBhb1KsHKyoSQ          4018   \n",
       "124412           \"Lotus of Siam\"  KskYqH1Bi7Z_61pH6Om8pg          3964   \n",
       "21006            \"Serendipity 3\"  eoHdUeQDNgQ6WYEnP2aiRw          3910   \n",
       "93038   \"The Buffet at Bellagio\"  ujHiaprwCQ5ewziu0Vi9rw          3838   \n",
       "\n",
       "             city  stars  \n",
       "97944   Las Vegas    4.0  \n",
       "119907  Las Vegas    4.0  \n",
       "69993   Las Vegas    3.5  \n",
       "81212   Las Vegas    4.0  \n",
       "139699  Las Vegas    4.5  \n",
       "19191   Las Vegas    4.0  \n",
       "80590   Las Vegas    3.5  \n",
       "124412  Las Vegas    4.0  \n",
       "21006   Las Vegas    3.0  \n",
       "93038   Las Vegas    3.5  "
      ]
     },
     "execution_count": 22,
     "metadata": {},
     "output_type": "execute_result"
    }
   ],
   "source": [
    "#top 10 most reviewed businesses\n",
    "business_data[['name', 'business_id','review_count','city','stars']].sort_values(ascending = False,by='review_count')[0:10]"
   ]
  },
  {
   "cell_type": "code",
   "execution_count": 23,
   "metadata": {},
   "outputs": [],
   "source": [
    "snowball = SnowballStemmer('english')\n",
    "tokenizer = RegexpTokenizer(r'[a-zA-Z\\']+')\n",
    "\n",
    "def tokenize(text):\n",
    "    return [snowball.stem(word) for word in tokenizer.tokenize(text.lower())]"
   ]
  },
  {
   "cell_type": "code",
   "execution_count": 24,
   "metadata": {},
   "outputs": [],
   "source": [
    "def vectorize_reviews(reviews):\n",
    "    vectorizer = TfidfVectorizer(stop_words = 'english', tokenizer = tokenize, max_features = 1000)\n",
    "    X = vectorizer.fit_transform(reviews)\n",
    "    words = vectorizer.get_feature_names()\n",
    "    return X, words"
   ]
  },
  {
   "cell_type": "code",
   "execution_count": 27,
   "metadata": {},
   "outputs": [],
   "source": [
    "def print_clusters(company_id, K = 8, num_words = 10):\n",
    "    company_df = review_df[review_df['business_id'] == company_id]\n",
    "    company_name = company_df['name'].unique()[0]\n",
    "    reviews = company_df['text'].values\n",
    "    X, words = vectorize_reviews(reviews)\n",
    "    \n",
    "    kmeans = KMeans(n_clusters = K)\n",
    "    kmeans.fit(X)\n",
    "    \n",
    "    common_words = kmeans.cluster_centers_.argsort()[:,-1:-num_words-1:-1]\n",
    "    print('Groups of ' + str(num_words) + ' words typically used together in reviews for ' + \\\n",
    "          company_name)\n",
    "    for num, centroid in enumerate(common_words):\n",
    "        print(str(num) + ' : ' + ', '.join(words[word] for word in centroid))"
   ]
  },
  {
   "cell_type": "code",
   "execution_count": 28,
   "metadata": {},
   "outputs": [
    {
     "data": {
      "text/plain": [
       "<matplotlib.axes._subplots.AxesSubplot at 0x1a2d553d30>"
      ]
     },
     "execution_count": 28,
     "metadata": {},
     "output_type": "execute_result"
    },
    {
     "data": {
      "image/png": "[encoded data removed]",
      "text/plain": [
       "<Figure size 432x288 with 1 Axes>"
      ]
     },
     "metadata": {},
     "output_type": "display_data"
    }
   ],
   "source": [
    "#number of reviews for each star rating for\"Mon Ami Gabi\" restaurant\n",
    "bus_id = '4JNXUYY8wbaaDmk3BPzlWw'\n",
    "company_df = review_df[review_df['business_id'] == bus_id]\n",
    "sns.countplot(x = company_df['stars'])"
   ]
  },
  {
   "cell_type": "code",
   "execution_count": 29,
   "metadata": {},
   "outputs": [
    {
     "data": {
      "text/plain": [
       "['awesome',\n",
       " 'great',\n",
       " 'fantastic',\n",
       " 'amazing',\n",
       " 'love',\n",
       " 'horrible',\n",
       " 'bad',\n",
       " 'terrible',\n",
       " 'awful',\n",
       " 'disappoint',\n",
       " 'hate']"
      ]
     },
     "execution_count": 29,
     "metadata": {},
     "output_type": "execute_result"
    }
   ],
   "source": [
    "#tips data\n",
    "selected_words = ['awesome', 'great', 'fantastic', 'amazing', 'love', 'horrible', 'bad', 'terrible', \n",
    "                  'awful',  'disappoint','hate']\n",
    "from sklearn.feature_extraction.text import CountVectorizer\n",
    "vectorizer = CountVectorizer(vocabulary=selected_words, lowercase=False)\n",
    "selected_word_count = vectorizer.fit_transform(tip_data['text'].values.astype('U'))\n",
    "vectorizer.get_feature_names()"
   ]
  },
  {
   "cell_type": "code",
   "execution_count": 30,
   "metadata": {},
   "outputs": [
    {
     "data": {
      "text/plain": [
       "<matplotlib.axes._subplots.AxesSubplot at 0x1abfdc5358>"
      ]
     },
     "execution_count": 30,
     "metadata": {},
     "output_type": "execute_result"
    },
    {
     "data": {
      "image/png": "[encoded data removed]",
      "text/plain": [
       "<Figure size 864x432 with 1 Axes>"
      ]
     },
     "metadata": {},
     "output_type": "display_data"
    }
   ],
   "source": [
    "word_count_array = selected_word_count.toarray()\n",
    "word_count_array.shape\n",
    "word_count_array.sum(axis=0)\n",
    "temp = pd.DataFrame(index=vectorizer.get_feature_names(), \\\n",
    "                    data=word_count_array.sum(axis=0)).rename(columns={0: 'Count'})\n",
    "temp.plot(kind='bar', stacked=False, figsize=[12,6])"
   ]
  },
  {
   "cell_type": "code",
   "execution_count": 31,
   "metadata": {},
   "outputs": [
    {
     "data": {
      "text/html": [
       "<div>\n",
       "<style scoped>\n",
       "    .dataframe tbody tr th:only-of-type {\n",
       "        vertical-align: middle;\n",
       "    }\n",
       "\n",
       "    .dataframe tbody tr th {\n",
       "        vertical-align: top;\n",
       "    }\n",
       "\n",
       "    .dataframe thead th {\n",
       "        text-align: right;\n",
       "    }\n",
       "</style>\n",
       "<table border=\"1\" class=\"dataframe\">\n",
       "  <thead>\n",
       "    <tr style=\"text-align: right;\">\n",
       "      <th></th>\n",
       "      <th>business_id</th>\n",
       "      <th>name</th>\n",
       "      <th>neighborhood</th>\n",
       "      <th>address</th>\n",
       "      <th>city</th>\n",
       "      <th>state</th>\n",
       "      <th>postal_code</th>\n",
       "      <th>latitude</th>\n",
       "      <th>longitude</th>\n",
       "      <th>stars</th>\n",
       "      <th>review_count</th>\n",
       "      <th>is_open</th>\n",
       "      <th>categories</th>\n",
       "    </tr>\n",
       "  </thead>\n",
       "  <tbody>\n",
       "    <tr>\n",
       "      <th>124412</th>\n",
       "      <td>KskYqH1Bi7Z_61pH6Om8pg</td>\n",
       "      <td>\"Lotus of Siam\"</td>\n",
       "      <td>Downtown</td>\n",
       "      <td>\"953 E Sahara Ave, Ste A5\"</td>\n",
       "      <td>Las Vegas</td>\n",
       "      <td>NV</td>\n",
       "      <td>89104</td>\n",
       "      <td>36.14345</td>\n",
       "      <td>-115.14278</td>\n",
       "      <td>4.0</td>\n",
       "      <td>3964</td>\n",
       "      <td>1</td>\n",
       "      <td>Car Dealers;Thai;Automotive;Seafood;Bars;Wine ...</td>\n",
       "    </tr>\n",
       "  </tbody>\n",
       "</table>\n",
       "</div>"
      ],
      "text/plain": [
       "                   business_id             name neighborhood  \\\n",
       "124412  KskYqH1Bi7Z_61pH6Om8pg  \"Lotus of Siam\"     Downtown   \n",
       "\n",
       "                           address       city state postal_code  latitude  \\\n",
       "124412  \"953 E Sahara Ave, Ste A5\"  Las Vegas    NV       89104  36.14345   \n",
       "\n",
       "        longitude  stars  review_count  is_open  \\\n",
       "124412 -115.14278    4.0          3964        1   \n",
       "\n",
       "                                               categories  \n",
       "124412  Car Dealers;Thai;Automotive;Seafood;Bars;Wine ...  "
      ]
     },
     "execution_count": 31,
     "metadata": {},
     "output_type": "execute_result"
    }
   ],
   "source": [
    "#one restaurant with high star rating and one with low star rating to see what the user tips look like\n",
    "business_data[(business_data['city'] == 'Las Vegas') & (business_data['stars'] == 4.5)] \n",
    "business_data[(business_data['name'] == '\"Lotus of Siam\"')] #restaurant with many reviews"
   ]
  },
  {
   "cell_type": "code",
   "execution_count": 32,
   "metadata": {},
   "outputs": [
    {
     "data": {
      "text/html": [
       "<div>\n",
       "<style scoped>\n",
       "    .dataframe tbody tr th:only-of-type {\n",
       "        vertical-align: middle;\n",
       "    }\n",
       "\n",
       "    .dataframe tbody tr th {\n",
       "        vertical-align: top;\n",
       "    }\n",
       "\n",
       "    .dataframe thead th {\n",
       "        text-align: right;\n",
       "    }\n",
       "</style>\n",
       "<table border=\"1\" class=\"dataframe\">\n",
       "  <thead>\n",
       "    <tr style=\"text-align: right;\">\n",
       "      <th></th>\n",
       "      <th>Count</th>\n",
       "    </tr>\n",
       "  </thead>\n",
       "  <tbody>\n",
       "    <tr>\n",
       "      <th>awesome</th>\n",
       "      <td>0</td>\n",
       "    </tr>\n",
       "    <tr>\n",
       "      <th>great</th>\n",
       "      <td>4</td>\n",
       "    </tr>\n",
       "    <tr>\n",
       "      <th>fantastic</th>\n",
       "      <td>0</td>\n",
       "    </tr>\n",
       "    <tr>\n",
       "      <th>amazing</th>\n",
       "      <td>2</td>\n",
       "    </tr>\n",
       "    <tr>\n",
       "      <th>love</th>\n",
       "      <td>2</td>\n",
       "    </tr>\n",
       "    <tr>\n",
       "      <th>horrible</th>\n",
       "      <td>0</td>\n",
       "    </tr>\n",
       "    <tr>\n",
       "      <th>bad</th>\n",
       "      <td>0</td>\n",
       "    </tr>\n",
       "    <tr>\n",
       "      <th>terrible</th>\n",
       "      <td>0</td>\n",
       "    </tr>\n",
       "    <tr>\n",
       "      <th>awful</th>\n",
       "      <td>0</td>\n",
       "    </tr>\n",
       "    <tr>\n",
       "      <th>disappoint</th>\n",
       "      <td>0</td>\n",
       "    </tr>\n",
       "    <tr>\n",
       "      <th>hate</th>\n",
       "      <td>0</td>\n",
       "    </tr>\n",
       "  </tbody>\n",
       "</table>\n",
       "</div>"
      ],
      "text/plain": [
       "            Count\n",
       "awesome         0\n",
       "great           4\n",
       "fantastic       0\n",
       "amazing         2\n",
       "love            2\n",
       "horrible        0\n",
       "bad             0\n",
       "terrible        0\n",
       "awful           0\n",
       "disappoint      0\n",
       "hate            0"
      ]
     },
     "execution_count": 32,
     "metadata": {},
     "output_type": "execute_result"
    }
   ],
   "source": [
    "Lotus_of_Siam = tip_data[tip_data.business_id==business_data.loc[173518,:].business_id]\n",
    "Lotus_of_Siam_selected_word_count = \\\n",
    "vectorizer.fit_transform(Lotus_of_Siam['text'].values.astype('U'))\n",
    "word_count_array = Lotus_of_Siam_selected_word_count.toarray()\n",
    "temp = pd.DataFrame(index=vectorizer.get_feature_names(), \\\n",
    "                    data=word_count_array.sum(axis=0)).rename(columns={0: 'Count'})\n",
    "temp"
   ]
  },
  {
   "cell_type": "code",
   "execution_count": 33,
   "metadata": {},
   "outputs": [
    {
     "data": {
      "text/html": [
       "<div>\n",
       "<style scoped>\n",
       "    .dataframe tbody tr th:only-of-type {\n",
       "        vertical-align: middle;\n",
       "    }\n",
       "\n",
       "    .dataframe tbody tr th {\n",
       "        vertical-align: top;\n",
       "    }\n",
       "\n",
       "    .dataframe thead th {\n",
       "        text-align: right;\n",
       "    }\n",
       "</style>\n",
       "<table border=\"1\" class=\"dataframe\">\n",
       "  <thead>\n",
       "    <tr style=\"text-align: right;\">\n",
       "      <th></th>\n",
       "      <th>text</th>\n",
       "      <th>date</th>\n",
       "      <th>likes</th>\n",
       "      <th>business_id</th>\n",
       "      <th>user_id</th>\n",
       "    </tr>\n",
       "  </thead>\n",
       "  <tbody>\n",
       "    <tr>\n",
       "      <th>344616</th>\n",
       "      <td>FREE Thai Tea $20 or more for to go!</td>\n",
       "      <td>2016-08-30</td>\n",
       "      <td>0</td>\n",
       "      <td>LIU7IcJtD9VieoIo__wd9Q</td>\n",
       "      <td>pm7K54T6OmsDHREtiVBWGQ</td>\n",
       "    </tr>\n",
       "    <tr>\n",
       "      <th>432179</th>\n",
       "      <td>Great lunch special \\nGreat service\\nDelicious...</td>\n",
       "      <td>2016-12-22</td>\n",
       "      <td>0</td>\n",
       "      <td>LIU7IcJtD9VieoIo__wd9Q</td>\n",
       "      <td>iCXSs34zzuqM3gjd_Ok0ng</td>\n",
       "    </tr>\n",
       "    <tr>\n",
       "      <th>475315</th>\n",
       "      <td>CLOSED every MONDAY during summer 2016 - tempo...</td>\n",
       "      <td>2016-08-09</td>\n",
       "      <td>0</td>\n",
       "      <td>LIU7IcJtD9VieoIo__wd9Q</td>\n",
       "      <td>JQIZhoQB-Tg9hdBEj90m4g</td>\n",
       "    </tr>\n",
       "    <tr>\n",
       "      <th>475316</th>\n",
       "      <td>Small restaurant hiding behind McDonald's and ...</td>\n",
       "      <td>2016-08-09</td>\n",
       "      <td>0</td>\n",
       "      <td>LIU7IcJtD9VieoIo__wd9Q</td>\n",
       "      <td>JQIZhoQB-Tg9hdBEj90m4g</td>\n",
       "    </tr>\n",
       "    <tr>\n",
       "      <th>475317</th>\n",
       "      <td>Lunch specials only $6.95</td>\n",
       "      <td>2016-08-09</td>\n",
       "      <td>0</td>\n",
       "      <td>LIU7IcJtD9VieoIo__wd9Q</td>\n",
       "      <td>JQIZhoQB-Tg9hdBEj90m4g</td>\n",
       "    </tr>\n",
       "    <tr>\n",
       "      <th>504579</th>\n",
       "      <td>Minimum $15 purchase for debit and credit tran...</td>\n",
       "      <td>2017-03-03</td>\n",
       "      <td>0</td>\n",
       "      <td>LIU7IcJtD9VieoIo__wd9Q</td>\n",
       "      <td>3mRWq3C2ceY8CRJMfNLcHQ</td>\n",
       "    </tr>\n",
       "    <tr>\n",
       "      <th>537561</th>\n",
       "      <td>Very good drunkin noodle!!</td>\n",
       "      <td>2015-07-06</td>\n",
       "      <td>0</td>\n",
       "      <td>LIU7IcJtD9VieoIo__wd9Q</td>\n",
       "      <td>VgNPZASnWwdsx8cMb5Su4g</td>\n",
       "    </tr>\n",
       "    <tr>\n",
       "      <th>649085</th>\n",
       "      <td>Food is great! Love the curry puff and pad tha...</td>\n",
       "      <td>2016-03-08</td>\n",
       "      <td>0</td>\n",
       "      <td>LIU7IcJtD9VieoIo__wd9Q</td>\n",
       "      <td>VlWy5U6bSlvc5_Q4QdGDIw</td>\n",
       "    </tr>\n",
       "    <tr>\n",
       "      <th>690421</th>\n",
       "      <td>Check in for the thai tea &amp; get their pad see ...</td>\n",
       "      <td>2017-08-15</td>\n",
       "      <td>0</td>\n",
       "      <td>LIU7IcJtD9VieoIo__wd9Q</td>\n",
       "      <td>SyX94Qkpowm_9dsn1SDrCQ</td>\n",
       "    </tr>\n",
       "    <tr>\n",
       "      <th>741448</th>\n",
       "      <td>This place really good papaya salad. One of th...</td>\n",
       "      <td>2017-07-29</td>\n",
       "      <td>0</td>\n",
       "      <td>LIU7IcJtD9VieoIo__wd9Q</td>\n",
       "      <td>_Fg79WQir7SFLSEtAREbXg</td>\n",
       "    </tr>\n",
       "  </tbody>\n",
       "</table>\n",
       "</div>"
      ],
      "text/plain": [
       "                                                     text        date  likes  \\\n",
       "344616               FREE Thai Tea $20 or more for to go!  2016-08-30      0   \n",
       "432179  Great lunch special \\nGreat service\\nDelicious...  2016-12-22      0   \n",
       "475315  CLOSED every MONDAY during summer 2016 - tempo...  2016-08-09      0   \n",
       "475316  Small restaurant hiding behind McDonald's and ...  2016-08-09      0   \n",
       "475317                          Lunch specials only $6.95  2016-08-09      0   \n",
       "504579  Minimum $15 purchase for debit and credit tran...  2017-03-03      0   \n",
       "537561                         Very good drunkin noodle!!  2015-07-06      0   \n",
       "649085  Food is great! Love the curry puff and pad tha...  2016-03-08      0   \n",
       "690421  Check in for the thai tea & get their pad see ...  2017-08-15      0   \n",
       "741448  This place really good papaya salad. One of th...  2017-07-29      0   \n",
       "\n",
       "                   business_id                 user_id  \n",
       "344616  LIU7IcJtD9VieoIo__wd9Q  pm7K54T6OmsDHREtiVBWGQ  \n",
       "432179  LIU7IcJtD9VieoIo__wd9Q  iCXSs34zzuqM3gjd_Ok0ng  \n",
       "475315  LIU7IcJtD9VieoIo__wd9Q  JQIZhoQB-Tg9hdBEj90m4g  \n",
       "475316  LIU7IcJtD9VieoIo__wd9Q  JQIZhoQB-Tg9hdBEj90m4g  \n",
       "475317  LIU7IcJtD9VieoIo__wd9Q  JQIZhoQB-Tg9hdBEj90m4g  \n",
       "504579  LIU7IcJtD9VieoIo__wd9Q  3mRWq3C2ceY8CRJMfNLcHQ  \n",
       "537561  LIU7IcJtD9VieoIo__wd9Q  VgNPZASnWwdsx8cMb5Su4g  \n",
       "649085  LIU7IcJtD9VieoIo__wd9Q  VlWy5U6bSlvc5_Q4QdGDIw  \n",
       "690421  LIU7IcJtD9VieoIo__wd9Q  SyX94Qkpowm_9dsn1SDrCQ  \n",
       "741448  LIU7IcJtD9VieoIo__wd9Q  _Fg79WQir7SFLSEtAREbXg  "
      ]
     },
     "execution_count": 33,
     "metadata": {},
     "output_type": "execute_result"
    }
   ],
   "source": [
    "Lotus_of_Siam.head(10)"
   ]
  },
  {
   "cell_type": "code",
   "execution_count": null,
   "metadata": {},
   "outputs": [],
   "source": []
  }
 ],
 "metadata": {
  "kernelspec": {
   "display_name": "Python 3",
   "language": "python",
   "name": "python3"
  },
  "language_info": {
   "codemirror_mode": {
    "name": "ipython",
    "version": 3
   },
   "file_extension": ".py",
   "mimetype": "text/x-python",
   "name": "python",
   "nbconvert_exporter": "python",
   "pygments_lexer": "ipython3",
   "version": "3.6.5"
  }
 },
 "nbformat": 4,
 "nbformat_minor": 2
}
