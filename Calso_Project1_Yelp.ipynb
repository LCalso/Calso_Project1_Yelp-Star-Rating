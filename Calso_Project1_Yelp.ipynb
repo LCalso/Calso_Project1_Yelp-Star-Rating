{
 "cells": [
  {
   "cell_type": "code",
   "execution_count": 1,
   "metadata": {},
   "outputs": [],
   "source": [
    "%matplotlib inline\n",
    "import matplotlib.pyplot as plt\n",
    "import pandas as pd\n",
    "import numpy as np\n",
    "import os\n",
    "import scipy\n",
    "import seaborn as sns"
   ]
  },
  {
   "cell_type": "code",
   "execution_count": 2,
   "metadata": {},
   "outputs": [],
   "source": [
    "business_data = pd.read_csv(\"Resources/yelp_business.csv\")\n",
    "business_hours_data = pd.read_csv(\"Resources/yelp_business_hours.csv\")\n",
    "check_in_data = pd.read_csv(\"Resources/yelp_checkin.csv\")\n",
    "review_data  = pd.read_csv(\"Resources/yelp_review.csv\")\n",
    "business_attributes_data = pd.read_csv(\"Resources/yelp_business_attributes.csv\")\n",
    "tip_data = pd.read_csv(\"Resources/yelp_tip.csv\")\n",
    "user_data = pd.read_csv(\"Resources/yelp_user.csv\")"
   ]
  },
  {
   "cell_type": "code",
   "execution_count": 6,
   "metadata": {},
   "outputs": [
    {
     "data": {
      "text/plain": [
       "neighborhood    106552\n",
       "postal_code        623\n",
       "longitude            1\n",
       "latitude             1\n",
       "state                1\n",
       "city                 1\n",
       "categories           0\n",
       "is_open              0\n",
       "review_count         0\n",
       "stars                0\n",
       "address              0\n",
       "name                 0\n",
       "business_id          0\n",
       "dtype: int64"
      ]
     },
     "execution_count": 6,
     "metadata": {},
     "output_type": "execute_result"
    }
   ],
   "source": [
    "#null values\n",
    "business_data.isnull().sum().sort_values(ascending = False)"
   ]
  },
  {
   "cell_type": "code",
   "execution_count": 7,
   "metadata": {},
   "outputs": [
    {
     "data": {
      "text/plain": [
       "Las Vegas                       26775\n",
       "Phoenix                         17213\n",
       "Toronto                         17206\n",
       "Charlotte                        8553\n",
       "Scottsdale                       8228\n",
       "Pittsburgh                       6355\n",
       "Mesa                             5760\n",
       "Montréal                         5709\n",
       "Henderson                        4465\n",
       "Tempe                            4263\n",
       "Chandler                         3994\n",
       "Edinburgh                        3868\n",
       "Cleveland                        3322\n",
       "Madison                          3213\n",
       "Glendale                         3206\n",
       "Gilbert                          3128\n",
       "Mississauga                      2726\n",
       "Stuttgart                        2000\n",
       "Peoria                           1706\n",
       "Markham                          1564\n",
       "North Las Vegas                  1393\n",
       "Champaign                        1195\n",
       "Scarborough                      1095\n",
       "North York                       1092\n",
       "Surprise                         1018\n",
       "Richmond Hill                     888\n",
       "Concord                           864\n",
       "Brampton                          839\n",
       "Goodyear                          772\n",
       "Vaughan                           768\n",
       "                                ...  \n",
       "Wolfschlugen                        1\n",
       "Hornby                              1\n",
       "Phoeniix                            1\n",
       "Mount Laurel                        1\n",
       "L'Ile-Perrot                        1\n",
       "Desert Ridge                        1\n",
       "Edinburgh City of                   1\n",
       "Gillbert                            1\n",
       "Laval, Pont Viau                    1\n",
       "West Toronto                        1\n",
       "Lakewood Oh                         1\n",
       "Baie-D'urfe                         1\n",
       "Sainte-Thérèse-de-Blainville        1\n",
       "North Braddock                      1\n",
       "Nellis                              1\n",
       "MC Murray                           1\n",
       "Scotesdale                          1\n",
       "Henderson and Las vegas             1\n",
       "Streetsbor                          1\n",
       "Garfield hts                        1\n",
       "Mayfield Hts.                       1\n",
       "Lawrence                            1\n",
       "Wood Dale                           1\n",
       "Liberty                             1\n",
       "Moneroeville                        1\n",
       "Regent Square                       1\n",
       "Longniddry                          1\n",
       "Waterford                           1\n",
       "Otterburn Park                      1\n",
       "Thornhil                            1\n",
       "Name: city, Length: 1093, dtype: int64"
      ]
     },
     "execution_count": 7,
     "metadata": {},
     "output_type": "execute_result"
    }
   ],
   "source": [
    "business_data.city.value_counts()"
   ]
  },
  {
   "cell_type": "code",
   "execution_count": 12,
   "metadata": {},
   "outputs": [
    {
     "data": {
      "text/html": [
       "<div>\n",
       "<style scoped>\n",
       "    .dataframe tbody tr th:only-of-type {\n",
       "        vertical-align: middle;\n",
       "    }\n",
       "\n",
       "    .dataframe tbody tr th {\n",
       "        vertical-align: top;\n",
       "    }\n",
       "\n",
       "    .dataframe thead th {\n",
       "        text-align: right;\n",
       "    }\n",
       "</style>\n",
       "<table border=\"1\" class=\"dataframe\">\n",
       "  <thead>\n",
       "    <tr style=\"text-align: right;\">\n",
       "      <th></th>\n",
       "      <th>name</th>\n",
       "      <th>review_count</th>\n",
       "      <th>city</th>\n",
       "      <th>stars</th>\n",
       "    </tr>\n",
       "  </thead>\n",
       "  <tbody>\n",
       "    <tr>\n",
       "      <th>97944</th>\n",
       "      <td>\"Mon Ami Gabi\"</td>\n",
       "      <td>7361</td>\n",
       "      <td>Las Vegas</td>\n",
       "      <td>4.0</td>\n",
       "    </tr>\n",
       "    <tr>\n",
       "      <th>119907</th>\n",
       "      <td>\"Bacchanal Buffet\"</td>\n",
       "      <td>7009</td>\n",
       "      <td>Las Vegas</td>\n",
       "      <td>4.0</td>\n",
       "    </tr>\n",
       "    <tr>\n",
       "      <th>69993</th>\n",
       "      <td>\"Wicked Spoon\"</td>\n",
       "      <td>5950</td>\n",
       "      <td>Las Vegas</td>\n",
       "      <td>3.5</td>\n",
       "    </tr>\n",
       "    <tr>\n",
       "      <th>81212</th>\n",
       "      <td>\"Gordon Ramsay BurGR\"</td>\n",
       "      <td>5447</td>\n",
       "      <td>Las Vegas</td>\n",
       "      <td>4.0</td>\n",
       "    </tr>\n",
       "    <tr>\n",
       "      <th>139699</th>\n",
       "      <td>\"Earl of Sandwich\"</td>\n",
       "      <td>4869</td>\n",
       "      <td>Las Vegas</td>\n",
       "      <td>4.5</td>\n",
       "    </tr>\n",
       "    <tr>\n",
       "      <th>19191</th>\n",
       "      <td>\"Hash House A Go Go\"</td>\n",
       "      <td>4774</td>\n",
       "      <td>Las Vegas</td>\n",
       "      <td>4.0</td>\n",
       "    </tr>\n",
       "    <tr>\n",
       "      <th>80590</th>\n",
       "      <td>\"The Buffet\"</td>\n",
       "      <td>4018</td>\n",
       "      <td>Las Vegas</td>\n",
       "      <td>3.5</td>\n",
       "    </tr>\n",
       "    <tr>\n",
       "      <th>124412</th>\n",
       "      <td>\"Lotus of Siam\"</td>\n",
       "      <td>3964</td>\n",
       "      <td>Las Vegas</td>\n",
       "      <td>4.0</td>\n",
       "    </tr>\n",
       "    <tr>\n",
       "      <th>21006</th>\n",
       "      <td>\"Serendipity 3\"</td>\n",
       "      <td>3910</td>\n",
       "      <td>Las Vegas</td>\n",
       "      <td>3.0</td>\n",
       "    </tr>\n",
       "    <tr>\n",
       "      <th>93038</th>\n",
       "      <td>\"The Buffet at Bellagio\"</td>\n",
       "      <td>3838</td>\n",
       "      <td>Las Vegas</td>\n",
       "      <td>3.5</td>\n",
       "    </tr>\n",
       "  </tbody>\n",
       "</table>\n",
       "</div>"
      ],
      "text/plain": [
       "                            name  review_count       city  stars\n",
       "97944             \"Mon Ami Gabi\"          7361  Las Vegas    4.0\n",
       "119907        \"Bacchanal Buffet\"          7009  Las Vegas    4.0\n",
       "69993             \"Wicked Spoon\"          5950  Las Vegas    3.5\n",
       "81212      \"Gordon Ramsay BurGR\"          5447  Las Vegas    4.0\n",
       "139699        \"Earl of Sandwich\"          4869  Las Vegas    4.5\n",
       "19191       \"Hash House A Go Go\"          4774  Las Vegas    4.0\n",
       "80590               \"The Buffet\"          4018  Las Vegas    3.5\n",
       "124412           \"Lotus of Siam\"          3964  Las Vegas    4.0\n",
       "21006            \"Serendipity 3\"          3910  Las Vegas    3.0\n",
       "93038   \"The Buffet at Bellagio\"          3838  Las Vegas    3.5"
      ]
     },
     "execution_count": 12,
     "metadata": {},
     "output_type": "execute_result"
    }
   ],
   "source": [
    "# top 10 most reviewed business\n",
    "business_data[['name','review_count','city','stars']].sort_values(ascending = False,by='review_count')[0:10]"
   ]
  },
  {
   "cell_type": "code",
   "execution_count": 26,
   "metadata": {},
   "outputs": [
    {
     "data": {
      "text/plain": [
       "Text(0.5,1,'Top 20 Cities by Businesses Listed')"
      ]
     },
     "execution_count": 26,
     "metadata": {},
     "output_type": "execute_result"
    },
    {
     "data": {
      "image/png": "[encoded data removed]",
      "text/plain": [
       "<Figure size 864x432 with 1 Axes>"
      ]
     },
     "metadata": {},
     "output_type": "display_data"
    }
   ],
   "source": [
    "# No. of business in different cities\n",
    "city_business_counts = business_data[['city', 'business_id']].groupby(['city'])\\\n",
    "['business_id'].agg('count').sort_values(ascending=False)\n",
    "city_business_counts = pd.DataFrame(data = city_business_counts)\n",
    "city_business_counts.rename(columns={'business_id' : 'Number of businesses'}, inplace=True)\n",
    "\n",
    "city_business_counts[0:20].sort_values(ascending=False, by=\"Number of businesses\")\\\n",
    ".plot(kind='barh', stacked=False, figsize=[12,6])\n",
    "plt.title('Top 20 Cities by Businesses Listed')"
   ]
  },
  {
   "cell_type": "code",
   "execution_count": 28,
   "metadata": {},
   "outputs": [
    {
     "data": {
      "text/html": [
       "<div>\n",
       "<style scoped>\n",
       "    .dataframe tbody tr th:only-of-type {\n",
       "        vertical-align: middle;\n",
       "    }\n",
       "\n",
       "    .dataframe tbody tr th {\n",
       "        vertical-align: top;\n",
       "    }\n",
       "\n",
       "    .dataframe thead th {\n",
       "        text-align: right;\n",
       "    }\n",
       "</style>\n",
       "<table border=\"1\" class=\"dataframe\">\n",
       "  <thead>\n",
       "    <tr style=\"text-align: right;\">\n",
       "      <th></th>\n",
       "      <th>review_count</th>\n",
       "      <th>stars</th>\n",
       "    </tr>\n",
       "    <tr>\n",
       "      <th>city</th>\n",
       "      <th></th>\n",
       "      <th></th>\n",
       "    </tr>\n",
       "  </thead>\n",
       "  <tbody>\n",
       "    <tr>\n",
       "      <th>Las Vegas</th>\n",
       "      <td>1604173</td>\n",
       "      <td>3.709916</td>\n",
       "    </tr>\n",
       "    <tr>\n",
       "      <th>Phoenix</th>\n",
       "      <td>576709</td>\n",
       "      <td>3.673793</td>\n",
       "    </tr>\n",
       "    <tr>\n",
       "      <th>Toronto</th>\n",
       "      <td>430923</td>\n",
       "      <td>3.487272</td>\n",
       "    </tr>\n",
       "    <tr>\n",
       "      <th>Scottsdale</th>\n",
       "      <td>308529</td>\n",
       "      <td>3.948529</td>\n",
       "    </tr>\n",
       "    <tr>\n",
       "      <th>Charlotte</th>\n",
       "      <td>237115</td>\n",
       "      <td>3.571554</td>\n",
       "    </tr>\n",
       "    <tr>\n",
       "      <th>Pittsburgh</th>\n",
       "      <td>179471</td>\n",
       "      <td>3.629819</td>\n",
       "    </tr>\n",
       "    <tr>\n",
       "      <th>Henderson</th>\n",
       "      <td>166884</td>\n",
       "      <td>3.789362</td>\n",
       "    </tr>\n",
       "    <tr>\n",
       "      <th>Tempe</th>\n",
       "      <td>162772</td>\n",
       "      <td>3.729885</td>\n",
       "    </tr>\n",
       "    <tr>\n",
       "      <th>Mesa</th>\n",
       "      <td>130883</td>\n",
       "      <td>3.636024</td>\n",
       "    </tr>\n",
       "    <tr>\n",
       "      <th>Montréal</th>\n",
       "      <td>122620</td>\n",
       "      <td>3.706604</td>\n",
       "    </tr>\n",
       "  </tbody>\n",
       "</table>\n",
       "</div>"
      ],
      "text/plain": [
       "            review_count     stars\n",
       "city                              \n",
       "Las Vegas        1604173  3.709916\n",
       "Phoenix           576709  3.673793\n",
       "Toronto           430923  3.487272\n",
       "Scottsdale        308529  3.948529\n",
       "Charlotte         237115  3.571554\n",
       "Pittsburgh        179471  3.629819\n",
       "Henderson         166884  3.789362\n",
       "Tempe             162772  3.729885\n",
       "Mesa              130883  3.636024\n",
       "Montréal          122620  3.706604"
      ]
     },
     "execution_count": 28,
     "metadata": {},
     "output_type": "execute_result"
    }
   ],
   "source": [
    "#Cities with most reviews and average ratings\n",
    "city_business_reviews = business_data[['city', 'review_count', 'stars']].groupby(['city']).\\\n",
    "agg({'review_count': 'sum', 'stars': 'mean'}).sort_values(by='review_count', ascending=False)\n",
    "city_business_reviews.head(10)"
   ]
  },
  {
   "cell_type": "code",
   "execution_count": 29,
   "metadata": {},
   "outputs": [
    {
     "data": {
      "text/plain": [
       "Text(0.5,1,'Cities with greater than 100k reviews ranked by stars')"
      ]
     },
     "execution_count": 29,
     "metadata": {},
     "output_type": "execute_result"
    },
    {
     "data": {
      "image/png": "[encoded data removed]",
      "text/plain": [
       "<Figure size 864x432 with 1 Axes>"
      ]
     },
     "metadata": {},
     "output_type": "display_data"
    }
   ],
   "source": [
    "city_business_reviews[city_business_reviews.review_count > 100000]['stars'].sort_values(ascending =False)\\\n",
    ".plot(kind='bar', stacked=False, figsize=[12,6])\n",
    "plt.title('Cities with greater than 100k reviews ranked by stars')"
   ]
  },
  {
   "cell_type": "code",
   "execution_count": 30,
   "metadata": {},
   "outputs": [
    {
     "ename": "ValueError",
     "evalue": "Invalid file path or buffer object type: <class 'pandas.core.frame.DataFrame'>",
     "output_type": "error",
     "traceback": [
      "\u001b[0;31m---------------------------------------------------------------------------\u001b[0m",
      "\u001b[0;31mValueError\u001b[0m                                Traceback (most recent call last)",
      "\u001b[0;32m<ipython-input-30-590d6bfdc08a>\u001b[0m in \u001b[0;36m<module>\u001b[0;34m()\u001b[0m\n\u001b[1;32m      1\u001b[0m \u001b[0;31m#business_data_to_load = \"dataset/yelp_business.csv\"\u001b[0m\u001b[0;34m\u001b[0m\u001b[0;34m\u001b[0m\u001b[0m\n\u001b[0;32m----> 2\u001b[0;31m \u001b[0myelp_business_df\u001b[0m \u001b[0;34m=\u001b[0m \u001b[0mpd\u001b[0m\u001b[0;34m.\u001b[0m\u001b[0mread_csv\u001b[0m\u001b[0;34m(\u001b[0m\u001b[0mbusiness_data\u001b[0m\u001b[0;34m)\u001b[0m\u001b[0;34m\u001b[0m\u001b[0m\n\u001b[0m\u001b[1;32m      3\u001b[0m \u001b[0myelp_business_df\u001b[0m\u001b[0;34m.\u001b[0m\u001b[0mhead\u001b[0m\u001b[0;34m(\u001b[0m\u001b[0;34m)\u001b[0m\u001b[0;34m\u001b[0m\u001b[0m\n",
      "\u001b[0;32m~/anaconda3/lib/python3.6/site-packages/pandas/io/parsers.py\u001b[0m in \u001b[0;36mparser_f\u001b[0;34m(filepath_or_buffer, sep, delimiter, header, names, index_col, usecols, squeeze, prefix, mangle_dupe_cols, dtype, engine, converters, true_values, false_values, skipinitialspace, skiprows, nrows, na_values, keep_default_na, na_filter, verbose, skip_blank_lines, parse_dates, infer_datetime_format, keep_date_col, date_parser, dayfirst, iterator, chunksize, compression, thousands, decimal, lineterminator, quotechar, quoting, escapechar, comment, encoding, dialect, tupleize_cols, error_bad_lines, warn_bad_lines, skipfooter, doublequote, delim_whitespace, low_memory, memory_map, float_precision)\u001b[0m\n\u001b[1;32m    676\u001b[0m                     skip_blank_lines=skip_blank_lines)\n\u001b[1;32m    677\u001b[0m \u001b[0;34m\u001b[0m\u001b[0m\n\u001b[0;32m--> 678\u001b[0;31m         \u001b[0;32mreturn\u001b[0m \u001b[0m_read\u001b[0m\u001b[0;34m(\u001b[0m\u001b[0mfilepath_or_buffer\u001b[0m\u001b[0;34m,\u001b[0m \u001b[0mkwds\u001b[0m\u001b[0;34m)\u001b[0m\u001b[0;34m\u001b[0m\u001b[0m\n\u001b[0m\u001b[1;32m    679\u001b[0m \u001b[0;34m\u001b[0m\u001b[0m\n\u001b[1;32m    680\u001b[0m     \u001b[0mparser_f\u001b[0m\u001b[0;34m.\u001b[0m\u001b[0m__name__\u001b[0m \u001b[0;34m=\u001b[0m \u001b[0mname\u001b[0m\u001b[0;34m\u001b[0m\u001b[0m\n",
      "\u001b[0;32m~/anaconda3/lib/python3.6/site-packages/pandas/io/parsers.py\u001b[0m in \u001b[0;36m_read\u001b[0;34m(filepath_or_buffer, kwds)\u001b[0m\n\u001b[1;32m    422\u001b[0m     \u001b[0mcompression\u001b[0m \u001b[0;34m=\u001b[0m \u001b[0m_infer_compression\u001b[0m\u001b[0;34m(\u001b[0m\u001b[0mfilepath_or_buffer\u001b[0m\u001b[0;34m,\u001b[0m \u001b[0mcompression\u001b[0m\u001b[0;34m)\u001b[0m\u001b[0;34m\u001b[0m\u001b[0m\n\u001b[1;32m    423\u001b[0m     filepath_or_buffer, _, compression, should_close = get_filepath_or_buffer(\n\u001b[0;32m--> 424\u001b[0;31m         filepath_or_buffer, encoding, compression)\n\u001b[0m\u001b[1;32m    425\u001b[0m     \u001b[0mkwds\u001b[0m\u001b[0;34m[\u001b[0m\u001b[0;34m'compression'\u001b[0m\u001b[0;34m]\u001b[0m \u001b[0;34m=\u001b[0m \u001b[0mcompression\u001b[0m\u001b[0;34m\u001b[0m\u001b[0m\n\u001b[1;32m    426\u001b[0m \u001b[0;34m\u001b[0m\u001b[0m\n",
      "\u001b[0;32m~/anaconda3/lib/python3.6/site-packages/pandas/io/common.py\u001b[0m in \u001b[0;36mget_filepath_or_buffer\u001b[0;34m(filepath_or_buffer, encoding, compression, mode)\u001b[0m\n\u001b[1;32m    216\u001b[0m     \u001b[0;32mif\u001b[0m \u001b[0;32mnot\u001b[0m \u001b[0mis_file_like\u001b[0m\u001b[0;34m(\u001b[0m\u001b[0mfilepath_or_buffer\u001b[0m\u001b[0;34m)\u001b[0m\u001b[0;34m:\u001b[0m\u001b[0;34m\u001b[0m\u001b[0m\n\u001b[1;32m    217\u001b[0m         \u001b[0mmsg\u001b[0m \u001b[0;34m=\u001b[0m \u001b[0;34m\"Invalid file path or buffer object type: {_type}\"\u001b[0m\u001b[0;34m\u001b[0m\u001b[0m\n\u001b[0;32m--> 218\u001b[0;31m         \u001b[0;32mraise\u001b[0m \u001b[0mValueError\u001b[0m\u001b[0;34m(\u001b[0m\u001b[0mmsg\u001b[0m\u001b[0;34m.\u001b[0m\u001b[0mformat\u001b[0m\u001b[0;34m(\u001b[0m\u001b[0m_type\u001b[0m\u001b[0;34m=\u001b[0m\u001b[0mtype\u001b[0m\u001b[0;34m(\u001b[0m\u001b[0mfilepath_or_buffer\u001b[0m\u001b[0;34m)\u001b[0m\u001b[0;34m)\u001b[0m\u001b[0;34m)\u001b[0m\u001b[0;34m\u001b[0m\u001b[0m\n\u001b[0m\u001b[1;32m    219\u001b[0m \u001b[0;34m\u001b[0m\u001b[0m\n\u001b[1;32m    220\u001b[0m     \u001b[0;32mreturn\u001b[0m \u001b[0mfilepath_or_buffer\u001b[0m\u001b[0;34m,\u001b[0m \u001b[0;32mNone\u001b[0m\u001b[0;34m,\u001b[0m \u001b[0mcompression\u001b[0m\u001b[0;34m,\u001b[0m \u001b[0;32mFalse\u001b[0m\u001b[0;34m\u001b[0m\u001b[0m\n",
      "\u001b[0;31mValueError\u001b[0m: Invalid file path or buffer object type: <class 'pandas.core.frame.DataFrame'>"
     ]
    }
   ],
   "source": [
    "#business_data_to_load = \"dataset/yelp_business.csv\"\n",
    "yelp_business_df = pd.read_csv(business_data)\n",
    "yelp_business_df.head()"
   ]
  },
  {
   "cell_type": "code",
   "execution_count": null,
   "metadata": {},
   "outputs": [],
   "source": [
    "yelp_business_df.drop(['business_id','neighborhood','latitude','longitude','is_open'], axis = 1, inplace = True)\n",
    "yelp_business_df.head()"
   ]
  },
  {
   "cell_type": "code",
   "execution_count": null,
   "metadata": {},
   "outputs": [],
   "source": [
    "plt.figure(figsize=(12,4))\n",
    "ax = sns.countplot(yelp_business_df['stars'])\n",
    "plt.title('Distribution of Ratings');"
   ]
  },
  {
   "cell_type": "code",
   "execution_count": null,
   "metadata": {},
   "outputs": [],
   "source": [
    "business_cats=';'.join(yelp_business_df['categories'])\n",
    "cats=pd.DataFrame(business_cats.split(';'),columns=['category'])\n",
    "cats_ser = cats.category.value_counts()\n",
    "\n",
    "cats_df = pd.DataFrame(cats_ser)\n",
    "cats_df.reset_index(inplace=True)\n",
    "\n",
    "plt.figure(figsize=(12,10))\n",
    "f = sns.barplot( y= 'index',x = 'category' , data = cats_df.iloc[0:20])\n",
    "f.set_ylabel('Category')\n",
    "f.set_xlabel('Number of businesses'); "
   ]
  },
  {
   "cell_type": "code",
   "execution_count": null,
   "metadata": {},
   "outputs": [],
   "source": []
  },
  {
   "cell_type": "code",
   "execution_count": null,
   "metadata": {},
   "outputs": [],
   "source": []
  }
 ],
 "metadata": {
  "kernelspec": {
   "display_name": "Python 3",
   "language": "python",
   "name": "python3"
  },
  "language_info": {
   "codemirror_mode": {
    "name": "ipython",
    "version": 3
   },
   "file_extension": ".py",
   "mimetype": "text/x-python",
   "name": "python",
   "nbconvert_exporter": "python",
   "pygments_lexer": "ipython3",
   "version": "3.6.5"
  }
 },
 "nbformat": 4,
 "nbformat_minor": 2
}
