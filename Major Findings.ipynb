{
 "cells": [
  {
   "cell_type": "code",
   "execution_count": null,
   "metadata": {},
   "outputs": [],
   "source": [
    "## Major Findings Summary\n",
    "1) Was there a difference between business data sets from the CSV files and from the API key?\n",
    "\n",
    "Business data sets from csv files and from the API key did not have the similar results such as tables, graphs, \n",
    "ratings, and number of reviews.\n",
    "\n",
    "Data from the CSV files and the API key are different because API key had missing data such as no pizza places (ex.\n",
    "Dominoes or Pizza Hut) in NY. The data sets from CSV files have good business data for Las Vegas because it provided\n",
    "variety of places, several reviews, and most businesses were restaurants.\n",
    "\n",
    "2) For the dataset of CSV files, how does the review tips of one restaurant with high star rating compare to one \n",
    "   restaurant with low star rating?\n",
    "    \n",
    "\"Mon Ami Gabi\" restaurant had a high star rating with the most reviews for restaurants in Las Vegas.\n",
    "\"Little Caesars\" pizza had a low star rating with the least reviews for restaurants in Las Vegas.\n",
    "\"Mon Ami Gabi\" restaurant had review tips that highlighted specific words such as great, amazing, and love the most \n",
    "compared to the other words noted in the word count chart. People like the checking in Yelp for the free Thai Tea \n",
    "and the lunch specials.  \n",
    "\"Little Caesars\" pizza had review tips that highlighted specific word such as bad to the other words noted in the word\n",
    "count chart. People dislike wait times over food qualify which seems reasonable. \n",
    "Conclusion: People refer to write a good part of the review rather than the bad part of the review unless they are \n",
    "furious."
   ]
  }
 ],
 "metadata": {
  "kernelspec": {
   "display_name": "Python 3",
   "language": "python",
   "name": "python3"
  },
  "language_info": {
   "codemirror_mode": {
    "name": "ipython",
    "version": 3
   },
   "file_extension": ".py",
   "mimetype": "text/x-python",
   "name": "python",
   "nbconvert_exporter": "python",
   "pygments_lexer": "ipython3",
   "version": "3.6.5"
  }
 },
 "nbformat": 4,
 "nbformat_minor": 2
}
